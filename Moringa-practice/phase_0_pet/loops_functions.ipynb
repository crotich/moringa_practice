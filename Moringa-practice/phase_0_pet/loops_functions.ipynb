{
  "nbformat": 4,
  "nbformat_minor": 0,
  "metadata": {
    "colab": {
      "provenance": []
    },
    "kernelspec": {
      "name": "python3",
      "display_name": "Python 3"
    },
    "language_info": {
      "name": "python"
    }
  },
  "cells": [
    {
      "cell_type": "code",
      "execution_count": 1,
      "metadata": {
        "id": "suQzvMX6J1mS"
      },
      "outputs": [],
      "source": [
        "import random"
      ]
    },
    {
      "cell_type": "code",
      "source": [
        "names = []\n",
        "# student_1....student_50\n",
        "for i in range(1,51):\n",
        "  names.append(\"student_\"+str(i))\n",
        "print(names )  \n",
        "\n"
      ],
      "metadata": {
        "colab": {
          "base_uri": "https://localhost:8080/"
        },
        "id": "JjAKmRfMLcn6",
        "outputId": "d3973db9-313f-4d50-f3ab-b878cf58a118"
      },
      "execution_count": 3,
      "outputs": [
        {
          "output_type": "stream",
          "name": "stdout",
          "text": [
            "['student_1', 'student_2', 'student_3', 'student_4', 'student_5', 'student_6', 'student_7', 'student_8', 'student_9', 'student_10', 'student_11', 'student_12', 'student_13', 'student_14', 'student_15', 'student_16', 'student_17', 'student_18', 'student_19', 'student_20', 'student_21', 'student_22', 'student_23', 'student_24', 'student_25', 'student_26', 'student_27', 'student_28', 'student_29', 'student_30', 'student_31', 'student_32', 'student_33', 'student_34', 'student_35', 'student_36', 'student_37', 'student_38', 'student_39', 'student_40', 'student_41', 'student_42', 'student_43', 'student_44', 'student_45', 'student_46', 'student_47', 'student_48', 'student_49', 'student_50']\n"
          ]
        }
      ]
    },
    {
      "cell_type": "code",
      "source": [
        "random.seed(3)\n",
        "birth_year = []\n",
        "for i in range(50):\n",
        "  birth_year.append(random.randint(1988,2002))\n",
        "print(birth_year)  "
      ],
      "metadata": {
        "colab": {
          "base_uri": "https://localhost:8080/"
        },
        "id": "8nCP4FCrPPqI",
        "outputId": "dd266906-c3b2-4ce8-ed77-6c224ff0debb"
      },
      "execution_count": 7,
      "outputs": [
        {
          "output_type": "stream",
          "name": "stdout",
          "text": [
            "[1991, 1997, 1996, 1990, 1993, 2002, 1997, 1995, 1998, 1997, 1989, 1997, 1988, 2002, 2001, 1995, 1992, 1996, 1991, 1991, 1999, 1995, 1996, 2001, 1996, 1995, 1994, 1998, 2001, 1990, 1991, 1998, 1990, 2001, 2002, 1996, 1994, 1999, 1988, 1998, 2000, 1989, 1990, 2000, 1997, 1988, 1992, 2000, 1988, 2001]\n"
          ]
        }
      ]
    },
    {
      "cell_type": "code",
      "source": [
        "b2 = []\n",
        "for i in range(50):\n",
        "  b2.append(random.randrange(1988,2002))\n",
        "print(b2)  "
      ],
      "metadata": {
        "colab": {
          "base_uri": "https://localhost:8080/"
        },
        "id": "TMFOLulNUJgT",
        "outputId": "68fbdb0d-63b2-4f70-cfeb-5d9ebe7c82ca"
      },
      "execution_count": 17,
      "outputs": [
        {
          "output_type": "stream",
          "name": "stdout",
          "text": [
            "[2001, 1992, 1995, 1997, 1999, 1994, 1999, 2000, 1994, 1994, 1999, 2000, 1997, 1995, 1990, 1993, 1989, 1988, 1990, 1995, 1991, 1992, 1998, 1994, 2000, 1998, 2001, 1992, 1994, 1996, 2001, 1994, 1997, 1993, 1996, 1997, 1994, 1997, 1991, 1993, 1998, 1988, 2001, 1992, 1997, 1998, 1999, 1990, 1999, 2001]\n"
          ]
        }
      ]
    },
    {
      "cell_type": "code",
      "source": [
        "student_attitude = []\n",
        "num = 0\n",
        "while num<50:\n",
        "   student_attitude.append(random.choice([\"postive\", \"Neutral\", \"Negative\"]))\n",
        "   num+=1\n",
        "print(student_attitude)\n",
        "print(len(student_attitude))"
      ],
      "metadata": {
        "colab": {
          "base_uri": "https://localhost:8080/"
        },
        "id": "uGp5TFCWVMLg",
        "outputId": "ffd88275-6413-480d-ea51-f9d9fe5caf1f"
      },
      "execution_count": 21,
      "outputs": [
        {
          "output_type": "stream",
          "name": "stdout",
          "text": [
            "['Negative', 'Neutral', 'postive', 'Negative', 'postive', 'Neutral', 'Neutral', 'Neutral', 'postive', 'Neutral', 'Neutral', 'Neutral', 'Negative', 'Neutral', 'Negative', 'Negative', 'Negative', 'Negative', 'postive', 'Negative', 'Negative', 'Neutral', 'Neutral', 'Negative', 'Negative', 'Negative', 'postive', 'Neutral', 'Neutral', 'Neutral', 'Negative', 'Neutral', 'Negative', 'Neutral', 'postive', 'Neutral', 'Negative', 'Neutral', 'postive', 'Neutral', 'Negative', 'Negative', 'Negative', 'postive', 'postive', 'Negative', 'Negative', 'Neutral', 'Neutral', 'Neutral']\n",
            "50\n"
          ]
        }
      ]
    },
    {
      "cell_type": "code",
      "source": [
        "import random"
      ],
      "metadata": {
        "id": "RTuyMg2ny8w5"
      },
      "execution_count": 3,
      "outputs": []
    },
    {
      "cell_type": "code",
      "source": [
        "student_score = []\n",
        " \n",
        "for i in range(0,100):\n",
        "  student_score.append(random.randint(0,100))\n",
        "print(student_score) \n",
        "                    "
      ],
      "metadata": {
        "colab": {
          "base_uri": "https://localhost:8080/"
        },
        "id": "V-Q5-5XHwf0b",
        "outputId": "1ac3fbde-3020-431f-df3d-bb9cd4616c61"
      },
      "execution_count": 10,
      "outputs": [
        {
          "output_type": "stream",
          "name": "stdout",
          "text": [
            "[41, 42, 86, 28, 56, 21, 10, 43, 94, 83, 27, 72, 57, 34, 28, 100, 15, 4, 67, 24, 40, 73, 23, 35, 43, 82, 10, 79, 44, 75, 16, 53, 37, 66, 34, 59, 44, 81, 53, 37, 53, 72, 52, 4, 52, 19, 25, 0, 61, 79, 65, 55, 71, 91, 28, 4, 95, 58, 96, 84, 95, 66, 36, 69, 43, 29, 8, 75, 36, 15, 31, 5, 4, 88, 65, 25, 55, 73, 6, 1, 61, 95, 15, 21, 64, 38, 30, 84, 2, 67, 68, 52, 6, 78, 14, 43, 16, 32, 69, 61]\n"
          ]
        }
      ]
    }
  ]
}